{
 "cells": [
  {
   "cell_type": "code",
   "execution_count": 2,
   "metadata": {},
   "outputs": [
    {
     "name": "stdout",
     "output_type": "stream",
     "text": [
      "Requirement already satisfied: django in c:\\users\\omeryildiz\\anaconda3\\envs\\django\\lib\\site-packages (3.2.5)\n",
      "Requirement already satisfied: asgiref<4,>=3.3.2 in c:\\users\\omeryildiz\\anaconda3\\envs\\django\\lib\\site-packages (from django) (3.4.1)\n",
      "Requirement already satisfied: pytz in c:\\users\\omeryildiz\\anaconda3\\envs\\django\\lib\\site-packages (from django) (2022.1)\n",
      "Note: you may need to restart the kernel to use updated packages.Requirement already satisfied: sqlparse>=0.2.2 in c:\\users\\omeryildiz\\anaconda3\\envs\\django\\lib\\site-packages (from django) (0.4.1)\n",
      "\n"
     ]
    }
   ],
   "source": [
    "%pip install django"
   ]
  },
  {
   "cell_type": "code",
   "execution_count": null,
   "metadata": {},
   "outputs": [],
   "source": []
  },
  {
   "cell_type": "code",
   "execution_count": null,
   "metadata": {},
   "outputs": [],
   "source": []
  }
 ],
 "metadata": {
  "kernelspec": {
   "display_name": "Python 3.9.12 ('Django')",
   "language": "python",
   "name": "python3"
  },
  "language_info": {
   "codemirror_mode": {
    "name": "ipython",
    "version": 3
   },
   "file_extension": ".py",
   "mimetype": "text/x-python",
   "name": "python",
   "nbconvert_exporter": "python",
   "pygments_lexer": "ipython3",
   "version": "3.9.12"
  },
  "orig_nbformat": 4,
  "vscode": {
   "interpreter": {
    "hash": "76d53b8941d4cd10a92104b32f9303a5927baf91feda3e702633b2f6ead19085"
   }
  }
 },
 "nbformat": 4,
 "nbformat_minor": 2
}
